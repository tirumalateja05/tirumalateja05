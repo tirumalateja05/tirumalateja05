{
 "cells": [
  {
   "cell_type": "raw",
   "metadata": {},
   "source": [
    "Create two classes with same method name then call both the methods in the third class."
   ]
  },
  {
   "cell_type": "code",
   "execution_count": 57,
   "metadata": {},
   "outputs": [
    {
     "name": "stdout",
     "output_type": "stream",
     "text": [
      "HI THERE\n",
      "HELLO THERE\n"
     ]
    }
   ],
   "source": [
    "class A():\n",
    "    def test():\n",
    "        print('HI THERE')\n",
    "class B:\n",
    "    def test():\n",
    "        print('HELLO THERE')\n",
    "class C(A,B):\n",
    "    def result(self):\n",
    "        A.test()\n",
    "        B.test()\n",
    "a=A()\n",
    "b=B()\n",
    "c=C()\n",
    "c.result()"
   ]
  },
  {
   "cell_type": "code",
   "execution_count": 46,
   "metadata": {},
   "outputs": [],
   "source": []
  },
  {
   "cell_type": "code",
   "execution_count": null,
   "metadata": {},
   "outputs": [],
   "source": []
  }
 ],
 "metadata": {
  "kernelspec": {
   "display_name": "Python 3",
   "language": "python",
   "name": "python3"
  },
  "language_info": {
   "codemirror_mode": {
    "name": "ipython",
    "version": 3
   },
   "file_extension": ".py",
   "mimetype": "text/x-python",
   "name": "python",
   "nbconvert_exporter": "python",
   "pygments_lexer": "ipython3",
   "version": "3.7.3"
  }
 },
 "nbformat": 4,
 "nbformat_minor": 2
}
