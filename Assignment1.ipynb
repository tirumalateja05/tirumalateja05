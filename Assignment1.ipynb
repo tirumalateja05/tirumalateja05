{
 "cells": [
  {
   "cell_type": "markdown",
   "metadata": {},
   "source": [
    "1.Install Jupyter notebook and run the first program and share the screenshot of the output.\n"
   ]
  },
  {
   "cell_type": "code",
   "execution_count": null,
   "metadata": {},
   "outputs": [],
   "source": [
    "\"C:\\Users\\tejatirumala\\Downloads\\Assnmt1.PNG\"\n"
   ]
  },
  {
   "cell_type": "markdown",
   "metadata": {},
   "source": [
    "2.Write a program which will find all such numbers which are divisible by 7 but are not a multiple\n",
    "of 5, between 2000 and 3200 (both included). The numbers obtained should be printed in a\n",
    "comma-separated sequence on a single line."
   ]
  },
  {
   "cell_type": "code",
   "execution_count": 2,
   "metadata": {},
   "outputs": [
    {
     "name": "stdout",
     "output_type": "stream",
     "text": [
      "2002 ,2009 ,2016 ,2023 ,2030 ,2037 ,2044 ,2051 ,2058 ,2065 ,2072 ,2079 ,2086 ,2093 ,2100 ,2107 ,2114 ,2121 ,2128 ,2135 ,2142 ,2149 ,2156 ,2163 ,2170 ,2177 ,2184 ,2191 ,2198 ,2205 ,2212 ,2219 ,2226 ,2233 ,2240 ,2247 ,2254 ,2261 ,2268 ,2275 ,2282 ,2289 ,2296 ,2303 ,2310 ,2317 ,2324 ,2331 ,2338 ,2345 ,2352 ,2359 ,2366 ,2373 ,2380 ,2387 ,2394 ,2401 ,2408 ,2415 ,2422 ,2429 ,2436 ,2443 ,2450 ,2457 ,2464 ,2471 ,2478 ,2485 ,2492 ,2499 ,2506 ,2513 ,2520 ,2527 ,2534 ,2541 ,2548 ,2555 ,2562 ,2569 ,2576 ,2583 ,2590 ,2597 ,2604 ,2611 ,2618 ,2625 ,2632 ,2639 ,2646 ,2653 ,2660 ,2667 ,2674 ,2681 ,2688 ,2695 ,2702 ,2709 ,2716 ,2723 ,2730 ,2737 ,2744 ,2751 ,2758 ,2765 ,2772 ,2779 ,2786 ,2793 ,2800 ,2807 ,2814 ,2821 ,2828 ,2835 ,2842 ,2849 ,2856 ,2863 ,2870 ,2877 ,2884 ,2891 ,2898 ,2905 ,2912 ,2919 ,2926 ,2933 ,2940 ,2947 ,2954 ,2961 ,2968 ,2975 ,2982 ,2989 ,2996 ,3003 ,3010 ,3017 ,3024 ,3031 ,3038 ,3045 ,3052 ,3059 ,3066 ,3073 ,3080 ,3087 ,3094 ,3101 ,3108 ,3115 ,3122 ,3129 ,3136 ,3143 ,3150 ,3157 ,3164 ,3171 ,3178 ,3185 ,3192 ,3199 ,"
     ]
    }
   ],
   "source": [
    "for a in range(2000,3201):\n",
    "    if a % 7 == 0 and a/5!=0 :\n",
    "        print(a,end=' ,')\n",
    "    "
   ]
  },
  {
   "cell_type": "markdown",
   "metadata": {},
   "source": [
    "3.Write a Python program to accept the user's first and last name and then getting them printed in\n",
    "the the reverse order with a space between first name and last name."
   ]
  },
  {
   "cell_type": "code",
   "execution_count": 3,
   "metadata": {},
   "outputs": [
    {
     "name": "stdout",
     "output_type": "stream",
     "text": [
      "enter your first name:TEJA\n",
      "enter your last name:BANDARU\n",
      "AJET URADNAB\n"
     ]
    }
   ],
   "source": [
    "first=str(input(\"enter your first name:\"))\n",
    "last=str(input(\"enter your last name:\"))\n",
    "first=first[::-1]\n",
    "last=last[::-1]\n",
    "output=first+\" \"+last\n",
    "print(output)"
   ]
  },
  {
   "cell_type": "markdown",
   "metadata": {},
   "source": [
    "4.Write a Python program to find the volume of a sphere with diameter 12 cm.\n",
    "Formula: V=4/3 * π * r*3"
   ]
  },
  {
   "cell_type": "code",
   "execution_count": 5,
   "metadata": {},
   "outputs": [
    {
     "name": "stdout",
     "output_type": "stream",
     "text": [
      "enter the diameter:12\n",
      "905.142857142857\n"
     ]
    }
   ],
   "source": [
    "dia=int(input(\"enter the diameter:\"))\n",
    "r=dia/2\n",
    "pi=22/7\n",
    "v=4/3*pi*r*r*r\n",
    "print (v)"
   ]
  },
  {
   "cell_type": "markdown",
   "metadata": {},
   "source": [
    "# Task 2"
   ]
  },
  {
   "cell_type": "markdown",
   "metadata": {},
   "source": [
    "1.Write a program which accepts a sequence of comma-separated numbers from console and\n",
    "generate a list.\n"
   ]
  },
  {
   "cell_type": "code",
   "execution_count": 6,
   "metadata": {},
   "outputs": [
    {
     "name": "stdout",
     "output_type": "stream",
     "text": [
      "Enter comma separated integers: 10,20,30,40\n",
      "10,20,30,40\n",
      "['10', '20', '30', '40']\n"
     ]
    }
   ],
   "source": [
    "str = str (input (\"Enter comma separated integers: \"))\n",
    "print (str)\n",
    "\n",
    "list = str.split (\",\")\n",
    "print (list)"
   ]
  },
  {
   "cell_type": "markdown",
   "metadata": {},
   "source": [
    "2.Create the below pattern using nested for loop in Python.\n",
    "*\n",
    "* *\n",
    "* * *\n",
    "* * * *\n",
    "* * * * *\n",
    "* * * *\n",
    "* * *\n",
    "* *\n",
    "*"
   ]
  },
  {
   "cell_type": "code",
   "execution_count": 11,
   "metadata": {},
   "outputs": [
    {
     "name": "stdout",
     "output_type": "stream",
     "text": [
      "enter num of rows:5\n",
      "\n",
      "*  \n",
      "*  *  \n",
      "*  *  *  \n",
      "*  *  *  *  \n",
      "*  *  *  *  *  \n",
      "*  *  *  *  \n",
      "*  *  *  \n",
      "*  *  \n",
      "*  \n"
     ]
    }
   ],
   "source": [
    "a=int(input(\"enter num of rows:\"))\n",
    "for i in range(0,a):\n",
    "    for j in range(i):\n",
    "        print(\"* \",end=\" \")\n",
    "    print()\n",
    "for k in range(a,0,-1):\n",
    "    for l in range(k):\n",
    "        print(\"* \",end=\" \")\n",
    "    print()\n",
    "\n",
    "        "
   ]
  },
  {
   "cell_type": "markdown",
   "metadata": {},
   "source": [
    "3.Write a Python program to reverse a word after accepting the input from the user.\n",
    "Sample Output:\n",
    "Input word: AcadGild\n",
    "Output: dilGdacA"
   ]
  },
  {
   "cell_type": "code",
   "execution_count": 15,
   "metadata": {},
   "outputs": [
    {
     "name": "stdout",
     "output_type": "stream",
     "text": [
      "Enter a name:AcadGild\n",
      "dliGdacA\n"
     ]
    }
   ],
   "source": [
    "str1=input(\"Enter a name:\")\n",
    "str1=str1[::-1]\n",
    "print(str1)"
   ]
  },
  {
   "cell_type": "markdown",
   "metadata": {},
   "source": [
    "4.Write a Python Program to print the given string in the format specified in the sample output.\n",
    "WE, THE PEOPLE OF INDIA, having solemnly resolved to constitute India into a\n",
    "SOVEREIGN, SOCIALIST, SECULAR, DEMOCRATIC REPUBLIC and to secure to all\n",
    "its citizens\n",
    "Sample Output:\n",
    "WE, THE PEOPLE OF INDIA,\n",
    "having solemnly resolved to constitute India into a SOVEREIGN, !\n",
    "SOCIALIST, SECULAR, DEMOCRATIC REPUBLIC\n",
    "and to secure to all its citizens"
   ]
  },
  {
   "cell_type": "code",
   "execution_count": 35,
   "metadata": {},
   "outputs": [
    {
     "name": "stdout",
     "output_type": "stream",
     "text": [
      "WE, THE PEOPLE OF INDIA,\n",
      "having solemnly resolved to constitute India into a SOVEREIGN, !\n",
      "SOCIALIST, SECULAR, DEMOCRATIC REPUBLIC and to secure to allits citizens\n"
     ]
    }
   ],
   "source": [
    "print(\"WE, THE PEOPLE OF INDIA,\\nhaving solemnly resolved to constitute India into a SOVEREIGN, \"'!'\"\\nSOCIALIST, SECULAR, DEMOCRATIC REPUBLIC and to secure to allits citizens\")\n"
   ]
  },
  {
   "cell_type": "code",
   "execution_count": null,
   "metadata": {},
   "outputs": [],
   "source": []
  }
 ],
 "metadata": {
  "kernelspec": {
   "display_name": "Python 3",
   "language": "python",
   "name": "python3"
  },
  "language_info": {
   "codemirror_mode": {
    "name": "ipython",
    "version": 3
   },
   "file_extension": ".py",
   "mimetype": "text/x-python",
   "name": "python",
   "nbconvert_exporter": "python",
   "pygments_lexer": "ipython3",
   "version": "3.7.3"
  }
 },
 "nbformat": 4,
 "nbformat_minor": 2
}
